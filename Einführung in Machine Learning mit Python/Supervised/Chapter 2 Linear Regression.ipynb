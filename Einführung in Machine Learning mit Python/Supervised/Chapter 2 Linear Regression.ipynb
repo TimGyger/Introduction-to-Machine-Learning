{
 "cells": [
  {
   "cell_type": "markdown",
   "id": "7f7122d0",
   "metadata": {},
   "source": [
    "# Linear Regression"
   ]
  },
  {
   "cell_type": "markdown",
   "id": "7b27adeb",
   "metadata": {},
   "source": [
    "$y = w[0]x[0]+w[1]x[1]+ ... + w[p]x[p] + b$ \n",
    "\n",
    "..., where $x$ symbolises the features and $w$ and $b$ the parameters (coefficients and intercept)"
   ]
  },
  {
   "cell_type": "code",
   "execution_count": 1,
   "id": "390996aa",
   "metadata": {},
   "outputs": [],
   "source": [
    "import numpy as np\n",
    "from scipy import sparse\n",
    "import matplotlib.pyplot as plt\n",
    "import pandas as pd\n",
    "import mglearn\n",
    "from IPython import display"
   ]
  },
  {
   "cell_type": "code",
   "execution_count": 2,
   "id": "76972b31",
   "metadata": {},
   "outputs": [
    {
     "name": "stdout",
     "output_type": "stream",
     "text": [
      "w[0]: 0.393906  b: -0.031804\n"
     ]
    },
    {
     "data": {
      "image/png": "[encoded data removed]",
      "text/plain": [
       "<Figure size 576x576 with 1 Axes>"
      ]
     },
     "metadata": {
      "needs_background": "light"
     },
     "output_type": "display_data"
    }
   ],
   "source": [
    "mglearn.plots.plot_linear_regression_wave()"
   ]
  },
  {
   "cell_type": "code",
   "execution_count": 16,
   "id": "8321ae02",
   "metadata": {},
   "outputs": [],
   "source": [
    "from sklearn.linear_model import LinearRegression\n",
    "X, y = mglearn.datasets.make_wave(n_samples = 520)\n",
    "from sklearn.model_selection import train_test_split\n",
    "X_train, X_test, y_train, y_test = train_test_split(X,y, random_state = 0)\n",
    "lr = LinearRegression().fit(X_train,y_train)"
   ]
  },
  {
   "cell_type": "code",
   "execution_count": 17,
   "id": "83c51e77",
   "metadata": {},
   "outputs": [
    {
     "data": {
      "text/plain": [
       "array([0.45814223])"
      ]
     },
     "execution_count": 17,
     "metadata": {},
     "output_type": "execute_result"
    }
   ],
   "source": [
    "lr.coef_"
   ]
  },
  {
   "cell_type": "code",
   "execution_count": 18,
   "id": "29176a78",
   "metadata": {},
   "outputs": [
    {
     "data": {
      "text/plain": [
       "0.045561883241755564"
      ]
     },
     "execution_count": 18,
     "metadata": {},
     "output_type": "execute_result"
    }
   ],
   "source": [
    "lr.intercept_"
   ]
  },
  {
   "cell_type": "markdown",
   "id": "e774935f",
   "metadata": {},
   "source": [
    "## R^2-Wert"
   ]
  },
  {
   "cell_type": "code",
   "execution_count": 19,
   "id": "453890a6",
   "metadata": {},
   "outputs": [
    {
     "data": {
      "text/plain": [
       "0.6280686653939113"
      ]
     },
     "execution_count": 19,
     "metadata": {},
     "output_type": "execute_result"
    }
   ],
   "source": [
    "lr.score(X_train,y_train)"
   ]
  },
  {
   "cell_type": "code",
   "execution_count": 20,
   "id": "0f6713bd",
   "metadata": {},
   "outputs": [
    {
     "data": {
      "text/plain": [
       "0.6790142992937466"
      ]
     },
     "execution_count": 20,
     "metadata": {},
     "output_type": "execute_result"
    }
   ],
   "source": [
    "lr.score(X_test,y_test)"
   ]
  },
  {
   "cell_type": "markdown",
   "id": "8988b1f0",
   "metadata": {},
   "source": [
    "If data is too complex, overfitting is very possible:"
   ]
  },
  {
   "cell_type": "code",
   "execution_count": 23,
   "id": "154ce7ef",
   "metadata": {},
   "outputs": [],
   "source": [
    "X, y = mglearn.datasets.load_extended_boston()"
   ]
  },
  {
   "cell_type": "code",
   "execution_count": 26,
   "id": "874c040d",
   "metadata": {},
   "outputs": [
    {
     "name": "stderr",
     "output_type": "stream",
     "text": [
      "<ipython-input-26-3362d9b86696>:3: VisibleDeprecationWarning: Creating an ndarray from ragged nested sequences (which is a list-or-tuple of lists-or-tuples-or ndarrays with different lengths or shapes) is deprecated. If you meant to do this, you must specify 'dtype=object' when creating the ndarray.\n",
      "  np.array([lr.coef_,lr.intercept_])\n"
     ]
    },
    {
     "data": {
      "text/plain": [
       "array([array([-4.12710947e+02, -5.22432068e+01, -1.31898815e+02, -1.20041365e+01,\n",
       "              -1.55107129e+01,  2.87163342e+01,  5.47040992e+01, -4.95346659e+01,\n",
       "               2.65823927e+01,  3.70620316e+01, -1.18281674e+01, -1.80581965e+01,\n",
       "              -1.95246830e+01,  1.22025403e+01,  2.98078144e+03,  1.50084257e+03,\n",
       "               1.14187325e+02, -1.69700520e+01,  4.09613691e+01, -2.42636646e+01,\n",
       "               5.76157466e+01,  1.27812142e+03, -2.23986944e+03,  2.22825472e+02,\n",
       "              -2.18201083e+00,  4.29960320e+01, -1.33981515e+01, -1.93893485e+01,\n",
       "              -2.57541277e+00, -8.10130128e+01,  9.66019367e+00,  4.91423718e+00,\n",
       "              -8.12114800e-01, -7.64694179e+00,  3.37837099e+01, -1.14464390e+01,\n",
       "               6.85083979e+01, -1.73753604e+01,  4.28128204e+01,  1.13988209e+00,\n",
       "              -7.72696840e-01,  5.68255921e+01,  1.42875996e+01,  5.39551110e+01,\n",
       "              -3.21709644e+01,  1.92709675e+01, -1.38852338e+01,  6.06343266e+01,\n",
       "              -1.23153942e+01, -1.20041365e+01, -1.77243899e+01, -3.39868183e+01,\n",
       "               7.08999816e+00, -9.22538241e+00,  1.71980268e+01, -1.27718431e+01,\n",
       "              -1.19727581e+01,  5.73871915e+01, -1.75331865e+01,  4.10103194e+00,\n",
       "               2.93666477e+01, -1.76611772e+01,  7.84049424e+01, -3.19098015e+01,\n",
       "               4.81752461e+01, -3.95344813e+01,  5.22959055e+00,  2.19982410e+01,\n",
       "               2.56483934e+01, -4.99982035e+01,  2.91457545e+01,  8.94267456e+00,\n",
       "              -7.16599297e+01, -2.28147862e+01,  8.40660981e+00, -5.37905422e+00,\n",
       "               1.20137322e+00, -5.20877186e+00,  4.11452351e+01, -3.78250760e+01,\n",
       "              -2.67163851e+00, -2.55217108e+01, -3.33982030e+01,  4.62272693e+01,\n",
       "              -2.41509169e+01, -1.77532970e+01, -1.39723701e+01, -2.35522208e+01,\n",
       "               3.68353800e+01, -9.46890859e+01,  1.44302810e+02, -1.51158659e+01,\n",
       "              -1.49513436e+01, -2.87729579e+01, -3.17673192e+01,  2.49551594e+01,\n",
       "              -1.84384534e+01,  3.65073948e+00,  1.73101122e+00,  3.53617137e+01,\n",
       "               1.19553429e+01,  6.77025947e-01,  2.73452009e+00,  3.03720012e+01]),\n",
       "       30.934563673645158], dtype=object)"
      ]
     },
     "execution_count": 26,
     "metadata": {},
     "output_type": "execute_result"
    }
   ],
   "source": [
    "X_train, X_test, y_train, y_test = train_test_split(X,y, random_state = 0)\n",
    "lr = LinearRegression().fit(X_train, y_train)\n",
    "np.array([lr.coef_,lr.intercept_])"
   ]
  },
  {
   "cell_type": "code",
   "execution_count": 27,
   "id": "5eadb9e8",
   "metadata": {},
   "outputs": [
    {
     "data": {
      "text/plain": [
       "array([0.95205196, 0.6074722 ])"
      ]
     },
     "execution_count": 27,
     "metadata": {},
     "output_type": "execute_result"
    }
   ],
   "source": [
    "np.array([lr.score(X_train,y_train),\n",
    "         lr.score(X_test,y_test)])"
   ]
  },
  {
   "cell_type": "markdown",
   "id": "bfe80834",
   "metadata": {},
   "source": [
    "# Ridge Regression"
   ]
  },
  {
   "cell_type": "markdown",
   "id": "98c8baf7",
   "metadata": {},
   "source": [
    "Same setup but with constraints for coefficients. The coefficients should be as small as possible. To do so we add a penalty-term to the L2- or Euclidean-norm. Therefore the model is restricted and has a worse prediction power on training data but a higher probability that the prediction power on test data is better as normal linear regression."
   ]
  },
  {
   "cell_type": "code",
   "execution_count": 30,
   "id": "6a383372",
   "metadata": {},
   "outputs": [
    {
     "name": "stderr",
     "output_type": "stream",
     "text": [
      "<ipython-input-30-2e67ea51e89a>:3: VisibleDeprecationWarning: Creating an ndarray from ragged nested sequences (which is a list-or-tuple of lists-or-tuples-or ndarrays with different lengths or shapes) is deprecated. If you meant to do this, you must specify 'dtype=object' when creating the ndarray.\n",
      "  np.array([ridge.coef_,ridge.intercept_])\n"
     ]
    },
    {
     "data": {
      "text/plain": [
       "array([array([-1.41368408e+00, -1.55661895e+00, -1.46543409e+00, -1.26616071e-01,\n",
       "              -7.91193605e-02,  8.33161023e+00,  2.54975060e-01, -4.94145701e+00,\n",
       "               3.89862268e+00, -1.05866058e+00, -1.58433734e+00,  1.05103856e+00,\n",
       "              -4.01220799e+00,  3.33720475e-01,  3.64725471e-03, -8.49295793e-01,\n",
       "               7.44989267e-01, -1.43106836e+00, -1.62981017e+00, -1.40486294e+00,\n",
       "              -4.47314366e-02, -1.74619880e+00, -1.46715888e+00, -1.33237111e+00,\n",
       "              -1.69154625e+00, -5.06179637e-01,  2.62197591e+00, -2.09210002e+00,\n",
       "               1.95074661e-01, -2.75469422e-01,  5.11308202e+00, -1.67083739e+00,\n",
       "              -9.81863179e-02,  6.34477127e-01, -6.10008281e-01,  4.01805897e-02,\n",
       "              -1.27661999e+00, -2.91349679e+00,  3.39544035e+00,  7.91904036e-01,\n",
       "               1.35260232e+00, -4.03661265e+00,  2.32361734e+00, -3.36712926e+00,\n",
       "               1.81279204e+00,  3.01566897e+00, -1.89452070e+00, -2.50844073e-01,\n",
       "              -2.89543735e+00, -1.26616071e-01, -5.00217192e+00, -2.43951806e+00,\n",
       "               2.85071846e+00, -8.57081177e-01,  2.99141960e+00,  2.34589755e+00,\n",
       "               1.31207081e+00,  1.71845119e+00, -2.59766697e+00, -1.32370675e+00,\n",
       "              -2.81242223e+00, -2.09117058e+00, -1.08428335e+00, -2.73843625e+00,\n",
       "              -1.61989753e+00, -2.80493280e+00,  9.44641482e-01, -1.65363374e+00,\n",
       "               1.66553558e+01, -1.10980551e+00,  2.14188605e+00, -8.03855387e+00,\n",
       "              -8.59149928e+00, -7.54161099e+00,  1.02924022e+01, -7.96425897e+00,\n",
       "               7.68540742e-01, -1.85213002e+00,  2.51497387e+00, -3.42074257e-01,\n",
       "              -1.79604278e+00, -2.93048162e-01, -4.78242379e+00,  8.63283317e-01,\n",
       "               4.22361423e-01, -1.41656695e+00, -2.12023113e-01, -5.08121369e+00,\n",
       "              -5.47247509e-01,  1.53835390e+00,  1.81348033e+00,  1.97252021e+00,\n",
       "               1.81849652e+00, -7.14338697e+00,  1.10472533e+00,  1.42242216e+00,\n",
       "              -1.31494020e+00, -6.77170441e+00,  1.82204476e+00, -2.36112444e+00,\n",
       "               4.34670572e-02,  1.20886000e+00, -6.32599163e+00,  1.03600231e+01]),\n",
       "       21.39052595861], dtype=object)"
      ]
     },
     "execution_count": 30,
     "metadata": {},
     "output_type": "execute_result"
    }
   ],
   "source": [
    "from sklearn.linear_model import Ridge\n",
    "ridge = Ridge().fit(X_train,y_train)\n",
    "np.array([ridge.coef_,ridge.intercept_])"
   ]
  },
  {
   "cell_type": "code",
   "execution_count": 29,
   "id": "5e06656c",
   "metadata": {},
   "outputs": [
    {
     "data": {
      "text/plain": [
       "array([0.88579666, 0.75276835])"
      ]
     },
     "execution_count": 29,
     "metadata": {},
     "output_type": "execute_result"
    }
   ],
   "source": [
    "np.array([ridge.score(X_train,y_train),\n",
    "         ridge.score(X_test,y_test)])"
   ]
  },
  {
   "cell_type": "markdown",
   "id": "0ec23753",
   "metadata": {},
   "source": [
    "We can adjust the penalty by the parameter alpha. If alpha is high the coefficients are smaller:"
   ]
  },
  {
   "cell_type": "code",
   "execution_count": 54,
   "id": "66cec334",
   "metadata": {},
   "outputs": [
    {
     "name": "stderr",
     "output_type": "stream",
     "text": [
      "/opt/anaconda3/lib/python3.8/site-packages/sklearn/linear_model/_ridge.py:147: LinAlgWarning: Ill-conditioned matrix (rcond=6.23249e-17): result may not be accurate.\n",
      "  return linalg.solve(A, Xy, sym_pos=True,\n"
     ]
    }
   ],
   "source": [
    "training_accuracy = []\n",
    "test_accuracy = []\n",
    "alpha = np.arange(1000)/10\n",
    "\n",
    "for alph in alpha:\n",
    "    ridge_alpha = Ridge(alpha = alph).fit(X_train,y_train)\n",
    "    training_accuracy.append(ridge_alpha.score(X_train,y_train))\n",
    "    test_accuracy.append(ridge_alpha.score(X_test,y_test))\n",
    "    "
   ]
  },
  {
   "cell_type": "code",
   "execution_count": 57,
   "id": "01da7af1",
   "metadata": {},
   "outputs": [
    {
     "data": {
      "text/plain": [
       "<matplotlib.legend.Legend at 0x7f8f244b5130>"
      ]
     },
     "execution_count": 57,
     "metadata": {},
     "output_type": "execute_result"
    },
    {
     "data": {
      "image/png": "[encoded data removed]",
      "text/plain": [
       "<Figure size 432x288 with 1 Axes>"
      ]
     },
     "metadata": {
      "needs_background": "light"
     },
     "output_type": "display_data"
    }
   ],
   "source": [
    "plt.plot(alpha, training_accuracy, label = \"Training\")\n",
    "plt.plot(alpha, test_accuracy, label = \"Test\")\n",
    "plt.ylabel(\"Accuracy\")\n",
    "plt.xlabel(\"alpha\")\n",
    "plt.legend()"
   ]
  },
  {
   "cell_type": "markdown",
   "id": "32540785",
   "metadata": {},
   "source": [
    "# Lasso"
   ]
  },
  {
   "cell_type": "markdown",
   "id": "c5cb2c4f",
   "metadata": {},
   "source": [
    "Similar to ridge regression, Lasso decreases the coefficient but by penalising w.r.t the L1-norm (on the sum of the coefficients). Therefore, some coefficients can be 0. It is as an automated selection of features."
   ]
  },
  {
   "cell_type": "code",
   "execution_count": 58,
   "id": "79e9ac5c",
   "metadata": {},
   "outputs": [
    {
     "data": {
      "text/plain": [
       "array([0.29323769, 0.20937503])"
      ]
     },
     "execution_count": 58,
     "metadata": {},
     "output_type": "execute_result"
    }
   ],
   "source": [
    "from sklearn.linear_model import Lasso\n",
    "\n",
    "lasso = Lasso().fit(X_train, y_train)\n",
    "\n",
    "np.array([lasso.score(X_train,y_train),lasso.score(X_test,y_test)])"
   ]
  },
  {
   "cell_type": "code",
   "execution_count": 60,
   "id": "aa171088",
   "metadata": {},
   "outputs": [
    {
     "data": {
      "text/plain": [
       "array([  4, 100])"
      ]
     },
     "execution_count": 60,
     "metadata": {},
     "output_type": "execute_result"
    }
   ],
   "source": [
    "np.array([np.sum(lasso.coef_ != 0),np.sum(lasso.coef_ == 0)])"
   ]
  },
  {
   "cell_type": "code",
   "execution_count": 67,
   "id": "9a9c6a51",
   "metadata": {},
   "outputs": [
    {
     "name": "stderr",
     "output_type": "stream",
     "text": [
      "<ipython-input-67-0aae9c114547>:7: UserWarning: With alpha=0, this algorithm does not converge well. You are advised to use the LinearRegression estimator\n",
      "  lasso_alpha = Lasso(alpha = alph, max_iter = 1000).fit(X_train,y_train)\n",
      "/opt/anaconda3/lib/python3.8/site-packages/sklearn/linear_model/_coordinate_descent.py:530: UserWarning: Coordinate descent with no regularization may lead to unexpected results and is discouraged.\n",
      "  model = cd_fast.enet_coordinate_descent(\n",
      "/opt/anaconda3/lib/python3.8/site-packages/sklearn/linear_model/_coordinate_descent.py:530: ConvergenceWarning: Objective did not converge. You might want to increase the number of iterations. Duality gap: 927.3037619237189, tolerance: 3.233182126649077\n",
      "  model = cd_fast.enet_coordinate_descent(\n",
      "/opt/anaconda3/lib/python3.8/site-packages/sklearn/linear_model/_coordinate_descent.py:530: ConvergenceWarning: Objective did not converge. You might want to increase the number of iterations. Duality gap: 46.90245800317825, tolerance: 3.233182126649077\n",
      "  model = cd_fast.enet_coordinate_descent(\n"
     ]
    }
   ],
   "source": [
    "training_accuracy = []\n",
    "test_accuracy = []\n",
    "Used_Features =[]\n",
    "alpha = np.arange(10)/100\n",
    "\n",
    "for alph in alpha:\n",
    "    lasso_alpha = Lasso(alpha = alph, max_iter = 1000).fit(X_train,y_train)\n",
    "    training_accuracy.append(lasso_alpha.score(X_train,y_train))\n",
    "    test_accuracy.append(lasso_alpha.score(X_test,y_test))\n",
    "    Used_Features.append(np.sum(lasso_alpha.coef_ != 0)/104)"
   ]
  },
  {
   "cell_type": "code",
   "execution_count": 68,
   "id": "305694a2",
   "metadata": {},
   "outputs": [
    {
     "data": {
      "text/plain": [
       "<matplotlib.legend.Legend at 0x7f8f2459ca90>"
      ]
     },
     "execution_count": 68,
     "metadata": {},
     "output_type": "execute_result"
    },
    {
     "data": {
      "image/png": "[encoded data removed]",
      "text/plain": [
       "<Figure size 432x288 with 1 Axes>"
      ]
     },
     "metadata": {
      "needs_background": "light"
     },
     "output_type": "display_data"
    }
   ],
   "source": [
    "plt.plot(alpha, training_accuracy, label = \"Training\")\n",
    "plt.plot(alpha, test_accuracy, label = \"Test\")\n",
    "plt.plot(alpha, Used_Features, label = \"Features\")\n",
    "plt.ylabel(\"Accuracy\")\n",
    "plt.xlabel(\"alpha\")\n",
    "plt.legend()"
   ]
  },
  {
   "cell_type": "markdown",
   "id": "c3ba6bc2",
   "metadata": {},
   "source": [
    "# Linear models for classification"
   ]
  },
  {
   "cell_type": "markdown",
   "id": "be1f9632",
   "metadata": {},
   "source": [
    "We use linear Regression to separate in classes by generating a limit between groups. We can use logistic regression to classify or a linear approach."
   ]
  },
  {
   "cell_type": "code",
   "execution_count": 69,
   "id": "712cd284",
   "metadata": {},
   "outputs": [
    {
     "name": "stderr",
     "output_type": "stream",
     "text": [
      "/opt/anaconda3/lib/python3.8/site-packages/sklearn/utils/deprecation.py:86: FutureWarning: Function make_blobs is deprecated; Please import make_blobs directly from scikit-learn\n",
      "  warnings.warn(msg, category=FutureWarning)\n",
      "/opt/anaconda3/lib/python3.8/site-packages/sklearn/svm/_base.py:985: ConvergenceWarning: Liblinear failed to converge, increase the number of iterations.\n",
      "  warnings.warn(\"Liblinear failed to converge, increase \"\n"
     ]
    },
    {
     "data": {
      "image/png": "[encoded data removed]",
      "text/plain": [
       "<Figure size 720x216 with 2 Axes>"
      ]
     },
     "metadata": {},
     "output_type": "display_data"
    }
   ],
   "source": [
    "from sklearn.linear_model import LogisticRegression\n",
    "from sklearn.svm import LinearSVC\n",
    "\n",
    "X, y = mglearn.datasets.make_forge()\n",
    "\n",
    "fig, axes = plt.subplots(1,2,figsize = (10,3))\n",
    "\n",
    "for model, ax in zip([LinearSVC(),LogisticRegression()], axes):\n",
    "    clf = model.fit(X,y)\n",
    "    mglearn.plots.plot_2d_separator(clf,X,fill = False, eps = 0.5, ax = ax, alpha = 0.7)\n",
    "    mglearn.discrete_scatter(X[:,0],X[:,1],y,ax = ax)"
   ]
  },
  {
   "cell_type": "markdown",
   "id": "bdbff78a",
   "metadata": {},
   "source": [
    "If parameter C is big we have less regulation and if C is small the coeficient values are low."
   ]
  },
  {
   "cell_type": "code",
   "execution_count": 71,
   "id": "0e7ac975",
   "metadata": {},
   "outputs": [],
   "source": [
    "from sklearn.datasets import load_breast_cancer\n",
    "cancer = load_breast_cancer()\n",
    "X_train, X_test, y_train, y_test = train_test_split(cancer.data,cancer.target,stratify=cancer.target,\n",
    "                                                    random_state = 0)\n"
   ]
  },
  {
   "cell_type": "code",
   "execution_count": 97,
   "id": "7d40517a",
   "metadata": {},
   "outputs": [
    {
     "name": "stderr",
     "output_type": "stream",
     "text": [
      "/opt/anaconda3/lib/python3.8/site-packages/sklearn/linear_model/_logistic.py:763: ConvergenceWarning: lbfgs failed to converge (status=1):\n",
      "STOP: TOTAL NO. of ITERATIONS REACHED LIMIT.\n",
      "\n",
      "Increase the number of iterations (max_iter) or scale the data as shown in:\n",
      "    https://scikit-learn.org/stable/modules/preprocessing.html\n",
      "Please also refer to the documentation for alternative solver options:\n",
      "    https://scikit-learn.org/stable/modules/linear_model.html#logistic-regression\n",
      "  n_iter_i = _check_optimize_result(\n",
      "/opt/anaconda3/lib/python3.8/site-packages/sklearn/linear_model/_logistic.py:763: ConvergenceWarning: lbfgs failed to converge (status=1):\n",
      "STOP: TOTAL NO. of ITERATIONS REACHED LIMIT.\n",
      "\n",
      "Increase the number of iterations (max_iter) or scale the data as shown in:\n",
      "    https://scikit-learn.org/stable/modules/preprocessing.html\n",
      "Please also refer to the documentation for alternative solver options:\n",
      "    https://scikit-learn.org/stable/modules/linear_model.html#logistic-regression\n",
      "  n_iter_i = _check_optimize_result(\n",
      "/opt/anaconda3/lib/python3.8/site-packages/sklearn/linear_model/_logistic.py:763: ConvergenceWarning: lbfgs failed to converge (status=1):\n",
      "STOP: TOTAL NO. of ITERATIONS REACHED LIMIT.\n",
      "\n",
      "Increase the number of iterations (max_iter) or scale the data as shown in:\n",
      "    https://scikit-learn.org/stable/modules/preprocessing.html\n",
      "Please also refer to the documentation for alternative solver options:\n",
      "    https://scikit-learn.org/stable/modules/linear_model.html#logistic-regression\n",
      "  n_iter_i = _check_optimize_result(\n"
     ]
    }
   ],
   "source": [
    "training_accuracy = []\n",
    "test_accuracy = []\n",
    "Cs = np.array([0.01,0.02,0.1])\n",
    "\n",
    "for C in Cs:\n",
    "    logreg = LogisticRegression(C=C).fit(X_train,y_train)\n",
    "    training_accuracy.append(logreg.score(X_train,y_train))\n",
    "    test_accuracy.append(logreg.score(X_test,y_test))\n",
    "    "
   ]
  },
  {
   "cell_type": "code",
   "execution_count": 98,
   "id": "84335f07",
   "metadata": {},
   "outputs": [
    {
     "data": {
      "text/plain": [
       "<matplotlib.legend.Legend at 0x7f8ef807c790>"
      ]
     },
     "execution_count": 98,
     "metadata": {},
     "output_type": "execute_result"
    },
    {
     "data": {
      "image/png": "[encoded data removed]",
      "text/plain": [
       "<Figure size 432x288 with 1 Axes>"
      ]
     },
     "metadata": {
      "needs_background": "light"
     },
     "output_type": "display_data"
    }
   ],
   "source": [
    "plt.plot(Cs, training_accuracy, label = \"Training\")\n",
    "plt.plot(Cs, test_accuracy, label = \"Test\")\n",
    "plt.ylabel(\"Accuracy\")\n",
    "plt.xlabel(\"C\")\n",
    "plt.legend()"
   ]
  },
  {
   "cell_type": "markdown",
   "id": "7cde8791",
   "metadata": {},
   "source": [
    "## Multiple Categories"
   ]
  },
  {
   "cell_type": "code",
   "execution_count": 99,
   "id": "b83e864d",
   "metadata": {},
   "outputs": [
    {
     "data": {
      "text/plain": [
       "[<matplotlib.lines.Line2D at 0x7f8f48965100>,\n",
       " <matplotlib.lines.Line2D at 0x7f8f48965460>,\n",
       " <matplotlib.lines.Line2D at 0x7f8f489657c0>]"
      ]
     },
     "execution_count": 99,
     "metadata": {},
     "output_type": "execute_result"
    },
    {
     "data": {
      "image/png": "[encoded data removed]",
      "text/plain": [
       "<Figure size 432x288 with 1 Axes>"
      ]
     },
     "metadata": {
      "needs_background": "light"
     },
     "output_type": "display_data"
    }
   ],
   "source": [
    "from sklearn.datasets import make_blobs\n",
    "\n",
    "X, y = make_blobs(random_state = 42)\n",
    "mglearn.discrete_scatter(X[:,0],X[:,1],y)"
   ]
  },
  {
   "cell_type": "code",
   "execution_count": 100,
   "id": "fcb75e1e",
   "metadata": {},
   "outputs": [],
   "source": [
    "linear_svm = LinearSVC().fit(X,y)"
   ]
  },
  {
   "cell_type": "code",
   "execution_count": 101,
   "id": "052ce535",
   "metadata": {},
   "outputs": [
    {
     "name": "stderr",
     "output_type": "stream",
     "text": [
      "<ipython-input-101-eecc36b0b53d>:1: VisibleDeprecationWarning: Creating an ndarray from ragged nested sequences (which is a list-or-tuple of lists-or-tuples-or ndarrays with different lengths or shapes) is deprecated. If you meant to do this, you must specify 'dtype=object' when creating the ndarray.\n",
      "  np.array([linear_svm.coef_.shape,linear_svm.intercept_.shape])\n"
     ]
    },
    {
     "data": {
      "text/plain": [
       "array([(3, 2), (3,)], dtype=object)"
      ]
     },
     "execution_count": 101,
     "metadata": {},
     "output_type": "execute_result"
    }
   ],
   "source": [
    "np.array([linear_svm.coef_.shape,linear_svm.intercept_.shape])"
   ]
  },
  {
   "cell_type": "code",
   "execution_count": 104,
   "id": "615d9819",
   "metadata": {},
   "outputs": [
    {
     "data": {
      "image/png": "[encoded data removed]",
      "text/plain": [
       "<Figure size 432x288 with 1 Axes>"
      ]
     },
     "metadata": {},
     "output_type": "display_data"
    }
   ],
   "source": [
    "mglearn.plots.plot_2d_classification(linear_svm,X,fill = True,alpha = .7)\n",
    "mglearn.discrete_scatter(X[:,0],X[:,1],y)\n",
    "line = np.linspace(-15,15)\n",
    "\n",
    "for coef, intercept, color in zip(linear_svm.coef_, linear_svm.intercept_,\n",
    "                                 ['b','r','g']):\n",
    "    plt.plot(line,-(line*coef[0]+intercept)/coef[1])"
   ]
  },
  {
   "cell_type": "code",
   "execution_count": null,
   "id": "623323e4",
   "metadata": {},
   "outputs": [],
   "source": []
  }
 ],
 "metadata": {
  "kernelspec": {
   "display_name": "Python 3",
   "language": "python",
   "name": "python3"
  },
  "language_info": {
   "codemirror_mode": {
    "name": "ipython",
    "version": 3
   },
   "file_extension": ".py",
   "mimetype": "text/x-python",
   "name": "python",
   "nbconvert_exporter": "python",
   "pygments_lexer": "ipython3",
   "version": "3.8.8"
  }
 },
 "nbformat": 4,
 "nbformat_minor": 5
}
